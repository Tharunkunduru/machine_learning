{
 "cells": [
  {
   "cell_type": "markdown",
   "metadata": {
    "heading_collapsed": true
   },
   "source": [
    "### Importing Libraries and DataFrame"
   ]
  },
  {
   "cell_type": "code",
   "execution_count": 2,
   "metadata": {
    "hidden": true,
    "run_control": {
     "marked": false
    }
   },
   "outputs": [],
   "source": [
    "# importing libraries\n",
    "import numpy as np\n",
    "import pandas as pd\n",
    "import matplotlib.pyplot as plt"
   ]
  },
  {
   "cell_type": "code",
   "execution_count": 3,
   "metadata": {
    "hidden": true,
    "run_control": {
     "marked": false
    },
    "scrolled": false
   },
   "outputs": [],
   "source": [
    "# importing dataframe\n",
    "df = pd.read_csv(\"Admission_Predict_Ver1.1.csv\")"
   ]
  },
  {
   "cell_type": "markdown",
   "metadata": {
    "heading_collapsed": true
   },
   "source": [
    "### Exploratory Data Analysis (EDA)"
   ]
  },
  {
   "cell_type": "code",
   "execution_count": 4,
   "metadata": {
    "hidden": true,
    "run_control": {
     "marked": false
    }
   },
   "outputs": [],
   "source": [
    "from sklearn.preprocessing import StandardScaler\n",
    "indices = ['GRE Score', 'TOEFL Score','University Rating', 'SOP', 'LOR ', 'CGPA', 'Research']"
   ]
  },
  {
   "cell_type": "code",
   "execution_count": 49,
   "metadata": {
    "hidden": true,
    "run_control": {
     "marked": false
    }
   },
   "outputs": [
    {
     "name": "stdout",
     "output_type": "stream",
     "text": [
      "   GRE Score  TOEFL Score  University Rating       SOP      LOR       CGPA  \\\n",
      "0   1.819238     1.778865           0.775582  1.137360  1.098944  1.776806   \n",
      "1   0.667148    -0.031601           0.775582  0.632315  1.098944  0.485859   \n",
      "2  -0.041830    -0.525364          -0.099793 -0.377773  0.017306 -0.954043   \n",
      "3   0.489904     0.462163          -0.099793  0.127271 -1.064332  0.154847   \n",
      "4  -0.219074    -0.689952          -0.975168 -1.387862 -0.523513 -0.606480   \n",
      "\n",
      "   Research  Chance of Admit   \n",
      "0  0.886405              0.92  \n",
      "1  0.886405              0.76  \n",
      "2  0.886405              0.72  \n",
      "3  0.886405              0.80  \n",
      "4 -1.128152              0.65  \n",
      "GRE Score            float64\n",
      "TOEFL Score          float64\n",
      "University Rating    float64\n",
      "SOP                  float64\n",
      "LOR                  float64\n",
      "CGPA                 float64\n",
      "Research             float64\n",
      "Chance of Admit      float64\n",
      "dtype: object\n",
      "(500, 8) 4000\n",
      "<class 'pandas.core.frame.DataFrame'>\n",
      "RangeIndex: 500 entries, 0 to 499\n",
      "Data columns (total 8 columns):\n",
      " #   Column             Non-Null Count  Dtype  \n",
      "---  ------             --------------  -----  \n",
      " 0   GRE Score          500 non-null    float64\n",
      " 1   TOEFL Score        500 non-null    float64\n",
      " 2   University Rating  500 non-null    float64\n",
      " 3   SOP                500 non-null    float64\n",
      " 4   LOR                500 non-null    float64\n",
      " 5   CGPA               500 non-null    float64\n",
      " 6   Research           500 non-null    float64\n",
      " 7   Chance of Admit    500 non-null    float64\n",
      "dtypes: float64(8)\n",
      "memory usage: 31.4 KB\n",
      "None\n"
     ]
    }
   ],
   "source": [
    "print(df.head())\n",
    "print(df.dtypes)\n",
    "print(df.shape, df.size)\n",
    "print(df.info())"
   ]
  },
  {
   "cell_type": "markdown",
   "metadata": {},
   "source": [
    "### Data Preprocessing"
   ]
  },
  {
   "cell_type": "code",
   "execution_count": 50,
   "metadata": {
    "run_control": {
     "marked": false
    }
   },
   "outputs": [
    {
     "name": "stdout",
     "output_type": "stream",
     "text": [
      "   GRE Score  TOEFL Score  University Rating       SOP      LOR       CGPA  \\\n",
      "0   1.819238     1.778865           0.775582  1.137360  1.098944  1.776806   \n",
      "1   0.667148    -0.031601           0.775582  0.632315  1.098944  0.485859   \n",
      "2  -0.041830    -0.525364          -0.099793 -0.377773  0.017306 -0.954043   \n",
      "3   0.489904     0.462163          -0.099793  0.127271 -1.064332  0.154847   \n",
      "4  -0.219074    -0.689952          -0.975168 -1.387862 -0.523513 -0.606480   \n",
      "\n",
      "   Research  Chance of Admit   \n",
      "0  0.886405              0.92  \n",
      "1  0.886405              0.76  \n",
      "2  0.886405              0.72  \n",
      "3  0.886405              0.80  \n",
      "4 -1.128152              0.65  \n"
     ]
    }
   ],
   "source": [
    "# scaling the data\n",
    "s = StandardScaler()\n",
    "df[indices] = s.fit_transform(df[indices])\n",
    "print(df.head())"
   ]
  },
  {
   "cell_type": "code",
   "execution_count": 7,
   "metadata": {
    "run_control": {
     "marked": false
    }
   },
   "outputs": [
    {
     "data": {
      "text/html": [
       "<div>\n",
       "<style scoped>\n",
       "    .dataframe tbody tr th:only-of-type {\n",
       "        vertical-align: middle;\n",
       "    }\n",
       "\n",
       "    .dataframe tbody tr th {\n",
       "        vertical-align: top;\n",
       "    }\n",
       "\n",
       "    .dataframe thead th {\n",
       "        text-align: right;\n",
       "    }\n",
       "</style>\n",
       "<table border=\"1\" class=\"dataframe\">\n",
       "  <thead>\n",
       "    <tr style=\"text-align: right;\">\n",
       "      <th></th>\n",
       "      <th>GRE Score</th>\n",
       "      <th>TOEFL Score</th>\n",
       "      <th>University Rating</th>\n",
       "      <th>SOP</th>\n",
       "      <th>LOR</th>\n",
       "      <th>CGPA</th>\n",
       "      <th>Research</th>\n",
       "      <th>Chance of Admit</th>\n",
       "    </tr>\n",
       "  </thead>\n",
       "  <tbody>\n",
       "    <tr>\n",
       "      <th>0</th>\n",
       "      <td>1.819238</td>\n",
       "      <td>1.778865</td>\n",
       "      <td>0.775582</td>\n",
       "      <td>1.137360</td>\n",
       "      <td>1.098944</td>\n",
       "      <td>1.776806</td>\n",
       "      <td>0.886405</td>\n",
       "      <td>0.92</td>\n",
       "    </tr>\n",
       "    <tr>\n",
       "      <th>1</th>\n",
       "      <td>0.667148</td>\n",
       "      <td>-0.031601</td>\n",
       "      <td>0.775582</td>\n",
       "      <td>0.632315</td>\n",
       "      <td>1.098944</td>\n",
       "      <td>0.485859</td>\n",
       "      <td>0.886405</td>\n",
       "      <td>0.76</td>\n",
       "    </tr>\n",
       "    <tr>\n",
       "      <th>2</th>\n",
       "      <td>-0.041830</td>\n",
       "      <td>-0.525364</td>\n",
       "      <td>-0.099793</td>\n",
       "      <td>-0.377773</td>\n",
       "      <td>0.017306</td>\n",
       "      <td>-0.954043</td>\n",
       "      <td>0.886405</td>\n",
       "      <td>0.72</td>\n",
       "    </tr>\n",
       "    <tr>\n",
       "      <th>3</th>\n",
       "      <td>0.489904</td>\n",
       "      <td>0.462163</td>\n",
       "      <td>-0.099793</td>\n",
       "      <td>0.127271</td>\n",
       "      <td>-1.064332</td>\n",
       "      <td>0.154847</td>\n",
       "      <td>0.886405</td>\n",
       "      <td>0.80</td>\n",
       "    </tr>\n",
       "    <tr>\n",
       "      <th>4</th>\n",
       "      <td>-0.219074</td>\n",
       "      <td>-0.689952</td>\n",
       "      <td>-0.975168</td>\n",
       "      <td>-1.387862</td>\n",
       "      <td>-0.523513</td>\n",
       "      <td>-0.606480</td>\n",
       "      <td>-1.128152</td>\n",
       "      <td>0.65</td>\n",
       "    </tr>\n",
       "  </tbody>\n",
       "</table>\n",
       "</div>"
      ],
      "text/plain": [
       "   GRE Score  TOEFL Score  University Rating       SOP      LOR       CGPA  \\\n",
       "0   1.819238     1.778865           0.775582  1.137360  1.098944  1.776806   \n",
       "1   0.667148    -0.031601           0.775582  0.632315  1.098944  0.485859   \n",
       "2  -0.041830    -0.525364          -0.099793 -0.377773  0.017306 -0.954043   \n",
       "3   0.489904     0.462163          -0.099793  0.127271 -1.064332  0.154847   \n",
       "4  -0.219074    -0.689952          -0.975168 -1.387862 -0.523513 -0.606480   \n",
       "\n",
       "   Research  Chance of Admit   \n",
       "0  0.886405              0.92  \n",
       "1  0.886405              0.76  \n",
       "2  0.886405              0.72  \n",
       "3  0.886405              0.80  \n",
       "4 -1.128152              0.65  "
      ]
     },
     "execution_count": 7,
     "metadata": {},
     "output_type": "execute_result"
    }
   ],
   "source": [
    "# Here the serial no. column does not convey any information to our prediction\n",
    "# Hence dropping the column Serial No.\n",
    "df.drop('Serial No.', inplace=True, axis=1)\n",
    "df.head()"
   ]
  },
  {
   "cell_type": "code",
   "execution_count": 8,
   "metadata": {
    "run_control": {
     "marked": true
    }
   },
   "outputs": [
    {
     "data": {
      "text/plain": [
       "GRE Score            0\n",
       "TOEFL Score          0\n",
       "University Rating    0\n",
       "SOP                  0\n",
       "LOR                  0\n",
       "CGPA                 0\n",
       "Research             0\n",
       "Chance of Admit      0\n",
       "dtype: int64"
      ]
     },
     "execution_count": 8,
     "metadata": {},
     "output_type": "execute_result"
    }
   ],
   "source": [
    "df.isna().sum()"
   ]
  },
  {
   "cell_type": "markdown",
   "metadata": {
    "heading_collapsed": true
   },
   "source": [
    "### 1. Multiple Linear Regressor (MLR)"
   ]
  },
  {
   "cell_type": "code",
   "execution_count": 9,
   "metadata": {
    "hidden": true,
    "run_control": {
     "marked": false
    }
   },
   "outputs": [],
   "source": [
    "# There are no null values\n",
    "# extracting x and y\n",
    "m_x = df[['GRE Score', 'TOEFL Score','University Rating', 'SOP', 'LOR ', 'CGPA', 'Research']]\n",
    "m_y = df['Chance of Admit '].values"
   ]
  },
  {
   "cell_type": "code",
   "execution_count": 10,
   "metadata": {
    "hidden": true,
    "run_control": {
     "marked": false
    }
   },
   "outputs": [],
   "source": [
    "# splitting into training and test set\n",
    "from sklearn.model_selection import train_test_split\n",
    "m_x_tr, m_x_te, m_y_tr, m_y_te = train_test_split(\n",
    "    m_x, m_y, test_size=0.2, random_state=200)"
   ]
  },
  {
   "cell_type": "code",
   "execution_count": 11,
   "metadata": {
    "hidden": true,
    "run_control": {
     "marked": false
    }
   },
   "outputs": [
    {
     "data": {
      "text/plain": [
       "LinearRegression()"
      ]
     },
     "execution_count": 11,
     "metadata": {},
     "output_type": "execute_result"
    }
   ],
   "source": [
    "# create and train the linear regression model\n",
    "from sklearn.linear_model import LinearRegression\n",
    "mlr = LinearRegression()\n",
    "mlr.fit(m_x_tr, m_y_tr)"
   ]
  },
  {
   "cell_type": "code",
   "execution_count": 12,
   "metadata": {
    "hidden": true,
    "run_control": {
     "marked": false
    },
    "scrolled": true
   },
   "outputs": [
    {
     "name": "stdout",
     "output_type": "stream",
     "text": [
      "y_pred= [0.61635829 0.6581441  0.61691753 0.67556453 0.8777813  0.64813872\n",
      " 0.72430047 0.55877053 0.85833797 0.67751625 0.50403132 0.5343963\n",
      " 0.81868237 0.62676102 0.83312043 0.84194681 0.86405488 0.64339323\n",
      " 0.78656554 0.52123244 0.7801137  0.64818079 0.43440208 0.58838702\n",
      " 0.77698304 0.70987474 0.98904045 0.64096681 0.71325841 0.67285907\n",
      " 0.72042278 0.58297502 0.71589664 0.90688696 0.7827935  0.52935114\n",
      " 0.73252579 0.67905142 0.8860504  0.66576021 0.80651754 0.91644383\n",
      " 0.58993084 0.69869614 0.70151575 0.68632921 0.58346429 0.62864324\n",
      " 0.47520817 0.71338119 0.65230253 0.91257457 0.79931783 0.96266307\n",
      " 0.82514242 0.59431637 0.84317079 0.5283786  0.63140817 0.67865673\n",
      " 0.775827   0.55523531 0.92885264 0.61523345 0.70716172 0.79876444\n",
      " 0.56026548 0.75760246 0.53610709 0.75184008 0.85469884 0.77916489\n",
      " 0.89610261 0.62031613 0.84434012 0.70330075 0.75091788 0.7910068\n",
      " 0.58220602 0.91069514 0.51333192 0.62060992 0.83527603 0.70260578\n",
      " 0.75434989 0.78498029 0.58457916 0.61508309 0.5310402  0.65817711\n",
      " 0.42282847 0.73759937 0.64762858 0.54931187 0.65908661 0.92276876\n",
      " 0.86242981 0.69342909 0.93258512 0.61569583]\n",
      "-------------------------------------------------------------------------\n",
      "y_test= [0.65 0.64 0.62 0.64 0.91 0.62 0.67 0.39 0.88 0.76 0.42 0.51 0.83 0.73\n",
      " 0.81 0.84 0.91 0.7  0.85 0.59 0.83 0.81 0.36 0.48 0.71 0.7  0.97 0.71\n",
      " 0.72 0.69 0.75 0.48 0.74 0.93 0.78 0.59 0.81 0.76 0.86 0.71 0.82 0.91\n",
      " 0.62 0.75 0.77 0.63 0.65 0.73 0.47 0.66 0.69 0.91 0.82 0.96 0.85 0.62\n",
      " 0.86 0.59 0.69 0.7  0.8  0.61 0.94 0.42 0.71 0.66 0.59 0.8  0.64 0.78\n",
      " 0.85 0.76 0.93 0.64 0.86 0.65 0.73 0.76 0.62 0.9  0.43 0.58 0.84 0.73\n",
      " 0.8  0.81 0.63 0.72 0.54 0.68 0.46 0.73 0.72 0.7  0.64 0.91 0.88 0.57\n",
      " 0.89 0.64]\n"
     ]
    }
   ],
   "source": [
    "# predicting the values and calculating the errors and r2_score\n",
    "from sklearn.metrics import mean_absolute_error, mean_squared_error, r2_score\n",
    "m_y_pred = mlr.predict(m_x_te)\n",
    "print('y_pred=', m_y_pred)\n",
    "print('-------------------------------------------------------------------------')\n",
    "print('y_test=', m_y_te)"
   ]
  },
  {
   "cell_type": "code",
   "execution_count": 13,
   "metadata": {
    "hidden": true,
    "run_control": {
     "marked": false
    }
   },
   "outputs": [
    {
     "name": "stdout",
     "output_type": "stream",
     "text": [
      "0.045345339216522514\n",
      "0.0036097956465169444\n",
      "0.0600815749337261\n",
      "0.8082526339390302\n"
     ]
    }
   ],
   "source": [
    "# error analysis\n",
    "mae = mean_absolute_error(m_y_te, m_y_pred)\n",
    "mse = mean_squared_error(m_y_te, m_y_pred)\n",
    "rmse = np.sqrt(mse)\n",
    "r2 = r2_score(m_y_te, m_y_pred)\n",
    "print(mae)\n",
    "print(mse)\n",
    "print(rmse)\n",
    "print(r2)\n",
    "lst_mae=[mae]\n",
    "lst_mse = [mse]\n",
    "lst_rmse = [rmse]\n",
    "lst_r2_Score = [r2]"
   ]
  },
  {
   "cell_type": "code",
   "execution_count": 14,
   "metadata": {
    "hidden": true,
    "run_control": {
     "marked": false
    }
   },
   "outputs": [
    {
     "data": {
      "image/png": "[encoded data removed]",
      "text/plain": [
       "<Figure size 432x288 with 1 Axes>"
      ]
     },
     "metadata": {
      "needs_background": "light"
     },
     "output_type": "display_data"
    }
   ],
   "source": [
    "# visualizing the test output\n",
    "# first pair - CGPA and Chance of Admit\n",
    "plt.scatter(m_x_te['CGPA'], m_y_te, c='red', label='test original')\n",
    "plt.scatter(m_x_te['CGPA'], m_y_pred, c='blue', label='test predicited')\n",
    "plt.legend()\n",
    "plt.xlabel('CGPA')\n",
    "plt.ylabel('Chance of Admit')\n",
    "plt.title('CGPA vs Chance of Admit')\n",
    "plt.show()"
   ]
  },
  {
   "cell_type": "code",
   "execution_count": 15,
   "metadata": {
    "hidden": true,
    "run_control": {
     "marked": false
    }
   },
   "outputs": [
    {
     "data": {
      "image/png": "[encoded data removed]",
      "text/plain": [
       "<Figure size 432x288 with 1 Axes>"
      ]
     },
     "metadata": {
      "needs_background": "light"
     },
     "output_type": "display_data"
    }
   ],
   "source": [
    "# visualizing the test output\n",
    "# Second pair - GRE Score and Chance of Admit\n",
    "plt.scatter(m_x_te['GRE Score'], m_y_te, c='red', label='test original')\n",
    "plt.scatter(m_x_te['GRE Score'], m_y_pred, c='blue', label='test predicited')\n",
    "plt.legend()\n",
    "plt.xlabel('GRE Score')\n",
    "plt.ylabel('Chance of Admit')\n",
    "plt.title('GRE Score vs Chance of Admit')\n",
    "plt.show()"
   ]
  },
  {
   "cell_type": "markdown",
   "metadata": {
    "heading_collapsed": true
   },
   "source": [
    "### 2. Random Forest."
   ]
  },
  {
   "cell_type": "code",
   "execution_count": 16,
   "metadata": {
    "hidden": true,
    "run_control": {
     "marked": false
    }
   },
   "outputs": [],
   "source": [
    "# spliting data into x and y according to indices.\n",
    "index = ['GRE Score', 'TOEFL Score', 'CGPA', 'SOP']\n",
    "r_x = df[index]\n",
    "r_y = df['Chance of Admit ']"
   ]
  },
  {
   "cell_type": "code",
   "execution_count": 17,
   "metadata": {
    "hidden": true,
    "run_control": {
     "marked": false
    }
   },
   "outputs": [],
   "source": [
    "# splitting data into training and testing\n",
    "r_x_train, r_x_test, r_y_train, r_y_test = train_test_split(\n",
    "    r_x, r_y, test_size=0.2, random_state=100)"
   ]
  },
  {
   "cell_type": "code",
   "execution_count": 18,
   "metadata": {
    "hidden": true,
    "run_control": {
     "marked": false
    }
   },
   "outputs": [
    {
     "data": {
      "text/plain": [
       "RandomForestRegressor(n_estimators=200, random_state=0)"
      ]
     },
     "execution_count": 18,
     "metadata": {},
     "output_type": "execute_result"
    }
   ],
   "source": [
    "# create and train the Random forest model\n",
    "from sklearn.ensemble import RandomForestRegressor\n",
    "reg = RandomForestRegressor(n_estimators=200, random_state=0)\n",
    "reg.fit(r_x_train, r_y_train)"
   ]
  },
  {
   "cell_type": "code",
   "execution_count": 19,
   "metadata": {
    "hidden": true,
    "run_control": {
     "marked": false
    }
   },
   "outputs": [
    {
     "name": "stdout",
     "output_type": "stream",
     "text": [
      "y_pred= [0.87035 0.539   0.5971  0.459   0.6742  0.84705 0.5635  0.6231  0.82975\n",
      " 0.6771  0.64425 0.55765 0.9159  0.7472  0.6449  0.5213  0.60475 0.72005\n",
      " 0.5849  0.63285 0.9043  0.677   0.8193  0.84235 0.9673  0.64235 0.71945\n",
      " 0.9358  0.8914  0.6265  0.7823  0.8131  0.7053  0.616   0.783   0.7599\n",
      " 0.79875 0.54905 0.5449  0.68    0.9362  0.53915 0.8462  0.8065  0.81585\n",
      " 0.5093  0.61135 0.8362  0.92625 0.63295 0.79605 0.70315 0.8153  0.96235\n",
      " 0.63915 0.89025 0.63705 0.91715 0.7151  0.71135 0.70505 0.6693  0.46935\n",
      " 0.9133  0.61275 0.7207  0.66495 0.4597  0.861   0.85775 0.92015 0.7162\n",
      " 0.7106  0.8851  0.65645 0.74645 0.53085 0.779   0.91495 0.93325 0.66005\n",
      " 0.6332  0.90315 0.6257  0.88255 0.7918  0.64285 0.5734  0.7104  0.62805\n",
      " 0.64205 0.6397  0.6571  0.938   0.92615 0.73555 0.825   0.7369  0.5665\n",
      " 0.82975]\n",
      "-------------------------------------------------------------------------\n",
      "y_test= [0.78 0.54 0.64 0.47 0.7  0.88 0.57 0.72 0.84 0.64 0.79 0.56 0.92 0.79\n",
      " 0.73 0.52 0.62 0.81 0.57 0.65 0.93 0.65 0.86 0.87 0.97 0.65 0.57 0.95\n",
      " 0.91 0.74 0.85 0.81 0.73 0.39 0.8  0.79 0.73 0.65 0.58 0.75 0.94 0.71\n",
      " 0.86 0.78 0.87 0.56 0.62 0.95 0.93 0.62 0.81 0.74 0.84 0.96 0.46 0.88\n",
      " 0.64 0.9  0.78 0.71 0.64 0.73 0.47 0.93 0.75 0.68 0.78 0.34 0.83 0.9\n",
      " 0.94 0.73 0.71 0.87 0.64 0.79 0.59 0.7  0.95 0.92 0.64 0.65 0.91 0.73\n",
      " 0.91 0.76 0.54 0.68 0.76 0.68 0.72 0.67 0.67 0.94 0.93 0.77 0.86 0.8\n",
      " 0.64 0.84]\n"
     ]
    }
   ],
   "source": [
    "# predicting the values and calculating the errors and r2_score\n",
    "from sklearn.metrics import mean_absolute_error, mean_squared_error, r2_score\n",
    "r_y_pred = reg.predict(r_x_test)\n",
    "print('y_pred=', r_y_pred)\n",
    "print('-------------------------------------------------------------------------')\n",
    "print('y_test=', r_y_test.values)"
   ]
  },
  {
   "cell_type": "code",
   "execution_count": 20,
   "metadata": {
    "hidden": true,
    "run_control": {
     "marked": false
    }
   },
   "outputs": [
    {
     "name": "stdout",
     "output_type": "stream",
     "text": [
      "mean average error :  0.044429000000000024\n",
      "mean square error :  0.004005060850000012\n",
      "root mean square error :  0.0600815749337261\n",
      "r2_score :  0.7702736216843601\n"
     ]
    }
   ],
   "source": [
    "# error calculation\n",
    "r_mae = mean_absolute_error(r_y_pred, r_y_test)\n",
    "r_mse = mean_squared_error(r_y_pred, r_y_test)\n",
    "r_rmse = np.sqrt(mse)\n",
    "r_r2 = r2_score(r_y_pred, r_y_test)\n",
    "lst_mae.append(r_mae)\n",
    "lst_mse.append(r_mse)\n",
    "lst_rmse.append(r_rmse)\n",
    "lst_r2_Score.append(r_r2)\n",
    "print(\"mean average error : \", r_mae)\n",
    "print(\"mean square error : \", r_mse)\n",
    "print(\"root mean square error : \", r_rmse)\n",
    "print(\"r2_score : \", r_r2)"
   ]
  },
  {
   "cell_type": "code",
   "execution_count": 21,
   "metadata": {
    "hidden": true,
    "run_control": {
     "marked": false
    },
    "scrolled": true
   },
   "outputs": [
    {
     "name": "stdout",
     "output_type": "stream",
     "text": [
      "GRE Score      0.089323\n",
      "TOEFL Score    0.050293\n",
      "CGPA           0.826649\n",
      "SOP            0.033735\n",
      "dtype: float64\n"
     ]
    }
   ],
   "source": [
    "r_feature = pd.Series(reg.feature_importances_, index=index)\n",
    "print(r_feature)"
   ]
  },
  {
   "cell_type": "code",
   "execution_count": 22,
   "metadata": {
    "hidden": true,
    "run_control": {
     "marked": false
    }
   },
   "outputs": [
    {
     "name": "stderr",
     "output_type": "stream",
     "text": [
      "No handles with labels found to put in legend.\n"
     ]
    },
    {
     "data": {
      "image/png": "[encoded data removed]",
      "text/plain": [
       "<Figure size 432x288 with 1 Axes>"
      ]
     },
     "metadata": {
      "needs_background": "light"
     },
     "output_type": "display_data"
    }
   ],
   "source": [
    "# importing seaborn to display data\n",
    "import seaborn as sns\n",
    "sns.barplot(x=r_feature, y=index)\n",
    "\n",
    "# add labels\n",
    "plt.legend()\n",
    "plt.xlabel('index')\n",
    "plt.ylabel('feature')\n",
    "plt.show()"
   ]
  },
  {
   "cell_type": "code",
   "execution_count": 23,
   "metadata": {
    "hidden": true,
    "run_control": {
     "marked": false
    },
    "scrolled": true
   },
   "outputs": [
    {
     "data": {
      "image/png": "[encoded data removed]",
      "text/plain": [
       "<Figure size 432x288 with 1 Axes>"
      ]
     },
     "metadata": {
      "needs_background": "light"
     },
     "output_type": "display_data"
    }
   ],
   "source": [
    "# visualizing the test output\n",
    "# first pair - CGPA and Chance of Admit\n",
    "plt.scatter(r_x_test[\"CGPA\"], r_y_test, c='red', label='test original')\n",
    "plt.scatter(r_x_test[\"CGPA\"], r_y_pred, c='blue', label='test predicited')\n",
    "plt.legend()\n",
    "plt.xlabel('CGPA')\n",
    "plt.ylabel('Chance of Admit')\n",
    "plt.title('CGPA vs Chance of Admit')\n",
    "plt.show()"
   ]
  },
  {
   "cell_type": "code",
   "execution_count": 24,
   "metadata": {
    "hidden": true,
    "run_control": {
     "marked": false
    }
   },
   "outputs": [
    {
     "data": {
      "image/png": "[encoded data removed]",
      "text/plain": [
       "<Figure size 432x288 with 1 Axes>"
      ]
     },
     "metadata": {
      "needs_background": "light"
     },
     "output_type": "display_data"
    }
   ],
   "source": [
    "# visualizing the test output\n",
    "# Second pair - GRE Score and Chance of Admit\n",
    "plt.scatter(r_x_test['GRE Score'], r_y_test, c='red', label='test original')\n",
    "plt.scatter(r_x_test['GRE Score'], r_y_pred, c='blue', label='test predicited')\n",
    "plt.legend()\n",
    "plt.xlabel('GRE Score')\n",
    "plt.ylabel('Chance of Admit')\n",
    "plt.title('GRE Score vs Chance of Admit')\n",
    "plt.show()"
   ]
  },
  {
   "cell_type": "code",
   "execution_count": 25,
   "metadata": {
    "hidden": true,
    "run_control": {
     "marked": false
    }
   },
   "outputs": [
    {
     "data": {
      "image/png": "[encoded data removed]",
      "text/plain": [
       "<Figure size 432x288 with 1 Axes>"
      ]
     },
     "metadata": {
      "needs_background": "light"
     },
     "output_type": "display_data"
    }
   ],
   "source": [
    "# visualizing the test output\n",
    "# Third pair - TOEFL Score and Chance of Admit\n",
    "plt.scatter(r_x_test['TOEFL Score'], r_y_test, c='red', label='test original')\n",
    "plt.scatter(r_x_test['TOEFL Score'], r_y_pred,\n",
    "            c='blue', label='test predicited')\n",
    "plt.legend()\n",
    "plt.xlabel('TOEFL Score')\n",
    "plt.ylabel('Chance of Admit')\n",
    "plt.title('TOEFL Score vs Chance of Admit')\n",
    "plt.show()"
   ]
  },
  {
   "cell_type": "markdown",
   "metadata": {
    "heading_collapsed": true
   },
   "source": [
    "### PCA for MLR"
   ]
  },
  {
   "cell_type": "code",
   "execution_count": 26,
   "metadata": {
    "hidden": true,
    "run_control": {
     "marked": false
    },
    "scrolled": true
   },
   "outputs": [
    {
     "name": "stdout",
     "output_type": "stream",
     "text": [
      "          pc1       pc2       pc3\n",
      "0   -3.568375 -0.328318 -0.608675\n",
      "1   -1.639199  0.034550  0.867234\n",
      "2    0.550991 -0.720794  0.940014\n",
      "3   -0.345470 -1.280237 -0.390081\n",
      "4    2.035804  0.039366 -0.691749\n",
      "..        ...       ...       ...\n",
      "495 -2.438060 -0.020361  0.392035\n",
      "496 -4.373303  0.306942 -0.200463\n",
      "497 -3.910724  0.256798 -0.167086\n",
      "498 -0.245327  2.135250  0.802122\n",
      "499 -1.873791  1.515791 -0.845650\n",
      "\n",
      "[500 rows x 3 columns]\n"
     ]
    }
   ],
   "source": [
    "from sklearn.decomposition import PCA\n",
    "m_p_column = ['pc1', 'pc2', 'pc3']\n",
    "# applying the pca\n",
    "m_p_pca = PCA(n_components=len(m_p_column))\n",
    "\n",
    "# getting data into principle components\n",
    "m_p_principlecomp = m_p_pca.fit_transform(df[['GRE Score', 'TOEFL Score','University Rating', 'SOP', 'LOR ', 'CGPA','Research']])\n",
    "\n",
    "m_p_principlecompdf = pd.DataFrame(data=m_p_principlecomp, columns=m_p_column)\n",
    "print(m_p_principlecompdf)"
   ]
  },
  {
   "cell_type": "code",
   "execution_count": 27,
   "metadata": {
    "hidden": true,
    "run_control": {
     "marked": false
    }
   },
   "outputs": [
    {
     "name": "stdout",
     "output_type": "stream",
     "text": [
      "        pc1       pc2       pc3  Chance of Admit \n",
      "0 -3.568375 -0.328318 -0.608675              0.92\n",
      "1 -1.639199  0.034550  0.867234              0.76\n",
      "2  0.550991 -0.720794  0.940014              0.72\n",
      "3 -0.345470 -1.280237 -0.390081              0.80\n",
      "4  2.035804  0.039366 -0.691749              0.65\n"
     ]
    }
   ],
   "source": [
    "# final data with principle component data\n",
    "m_p_finaldf = pd.concat(\n",
    "    [m_p_principlecompdf, df[['Chance of Admit ']]], axis=1)\n",
    "\n",
    "print(m_p_finaldf.head())"
   ]
  },
  {
   "cell_type": "code",
   "execution_count": 28,
   "metadata": {
    "hidden": true,
    "run_control": {
     "marked": false
    }
   },
   "outputs": [
    {
     "data": {
      "text/plain": [
       "array([0.67519343, 0.10596446, 0.08023255])"
      ]
     },
     "execution_count": 28,
     "metadata": {},
     "output_type": "execute_result"
    }
   ],
   "source": [
    "# principle component with p<0.05 has been removed\n",
    "m_p_pca.explained_variance_ratio_"
   ]
  },
  {
   "cell_type": "markdown",
   "metadata": {
    "heading_collapsed": true
   },
   "source": [
    "### 3. Multiple Linear Regressor (MLR) with PCA"
   ]
  },
  {
   "cell_type": "code",
   "execution_count": 29,
   "metadata": {
    "hidden": true,
    "run_control": {
     "marked": false
    }
   },
   "outputs": [],
   "source": [
    "# spliting the data into trining and testing data\n",
    "from sklearn.model_selection import train_test_split\n",
    "\n",
    "m_p_x_train, m_p_x_test, m_p_y_train, m_p_y_test = train_test_split(\n",
    "    m_p_finaldf.iloc[:, :-1].values, m_p_finaldf.iloc[:, -1].values, train_size=0.8, random_state=0)"
   ]
  },
  {
   "cell_type": "code",
   "execution_count": 30,
   "metadata": {
    "hidden": true,
    "run_control": {
     "marked": false
    }
   },
   "outputs": [
    {
     "data": {
      "text/plain": [
       "LinearRegression()"
      ]
     },
     "execution_count": 30,
     "metadata": {},
     "output_type": "execute_result"
    }
   ],
   "source": [
    "# create and train the linear regression model\n",
    "from sklearn.linear_model import LinearRegression\n",
    "mlr_pca = LinearRegression()\n",
    "mlr_pca.fit(m_p_x_train, m_p_y_train)"
   ]
  },
  {
   "cell_type": "code",
   "execution_count": 31,
   "metadata": {
    "hidden": true,
    "run_control": {
     "marked": false
    },
    "scrolled": true
   },
   "outputs": [
    {
     "name": "stdout",
     "output_type": "stream",
     "text": [
      "y_pred= [0.69711743 0.81965476 0.75961497 0.90026078 0.60964072 0.66447488\n",
      " 0.52243942 0.69435892 0.49986141 0.72026209 0.6171625  0.70793262\n",
      " 0.60417184 0.73406297 0.90863937 0.50676138 0.82032913 0.63773434\n",
      " 0.74340399 0.52140588 0.52016894 0.72502894 0.51851292 0.93138172\n",
      " 0.85142546 0.70092012 0.75058637 0.50445299 0.58148137 0.57561494\n",
      " 0.65833686 0.51877432 0.64553494 0.84147211 0.5947748  0.61592535\n",
      " 0.83680691 0.85998839 0.60306083 0.63573784 0.65495925 0.89457551\n",
      " 0.87350372 0.72337476 0.78169398 0.80203102 0.96685023 0.83800727\n",
      " 0.6504796  0.66917106 0.60586835 0.62942883 0.59703441 0.77591955\n",
      " 0.7052825  0.85047629 0.5308443  0.8477847  0.60603735 0.64641148\n",
      " 0.52283649 0.90841274 0.60332271 0.88844414 0.68776431 0.61517246\n",
      " 0.74759049 0.8483977  0.49900457 0.76676591 0.8974318  0.78784618\n",
      " 0.70079298 0.69105844 0.81040209 0.93033328 0.74615195 0.74233105\n",
      " 0.57952679 0.63464692 0.60812646 0.86569059 0.58406071 0.66905359\n",
      " 0.79253487 0.55243127 0.79034572 0.60151637 0.48633406 0.70042663\n",
      " 0.69559476 0.77634114 0.61330151 0.68925276 0.6240077  0.93800045\n",
      " 0.59128344 0.56659987 0.59468603 0.61775304]\n",
      "-------------------------------------------------------------------------\n",
      "y_test= [0.64 0.85 0.8  0.91 0.68 0.54 0.54 0.65 0.52 0.79 0.65 0.74 0.64 0.79\n",
      " 0.89 0.43 0.81 0.73 0.8  0.58 0.57 0.74 0.6  0.93 0.88 0.67 0.7  0.57\n",
      " 0.48 0.64 0.69 0.47 0.57 0.87 0.39 0.53 0.84 0.89 0.63 0.7  0.72 0.86\n",
      " 0.91 0.75 0.74 0.76 0.96 0.81 0.6  0.62 0.69 0.68 0.59 0.8  0.71 0.78\n",
      " 0.69 0.89 0.67 0.58 0.44 0.89 0.53 0.92 0.66 0.73 0.52 0.86 0.54 0.72\n",
      " 0.92 0.55 0.75 0.73 0.85 0.91 0.75 0.71 0.54 0.68 0.62 0.88 0.59 0.74\n",
      " 0.8  0.63 0.77 0.65 0.57 0.7  0.76 0.78 0.71 0.73 0.73 0.95 0.64 0.53\n",
      " 0.48 0.64]\n"
     ]
    }
   ],
   "source": [
    "# predicting the values and calculating the errors and r2_score\n",
    "from sklearn.metrics import mean_absolute_error, mean_squared_error, r2_score\n",
    "m_p_y_pred = mlr_pca.predict(m_p_x_test)\n",
    "print('y_pred=', m_p_y_pred)\n",
    "print('-------------------------------------------------------------------------')\n",
    "print('y_test=', m_p_y_test)"
   ]
  },
  {
   "cell_type": "code",
   "execution_count": 32,
   "metadata": {
    "hidden": true,
    "run_control": {
     "marked": false
    }
   },
   "outputs": [
    {
     "name": "stdout",
     "output_type": "stream",
     "text": [
      "0.05088574657875699\n",
      "0.004431258149176575\n",
      "0.06656769598819366\n",
      "0.7104046226612685\n"
     ]
    }
   ],
   "source": [
    "# error calculation\n",
    "m_p_mae = mean_absolute_error(m_p_y_pred, m_p_y_test)\n",
    "m_p_mse = mean_squared_error(m_p_y_pred, m_p_y_test)\n",
    "m_p_rmse = np.sqrt(m_p_mse)\n",
    "m_p_r2_Score = r2_score(m_p_y_pred, m_p_y_test)\n",
    "lst_mae.append(m_p_mae)\n",
    "lst_mse.append(m_p_mse)\n",
    "lst_rmse.append(m_p_rmse)\n",
    "lst_r2_Score.append(m_p_r2_Score)\n",
    "print(m_p_mae)\n",
    "print(m_p_mse)\n",
    "print(m_p_rmse)\n",
    "print(m_p_r2_Score)"
   ]
  },
  {
   "cell_type": "code",
   "execution_count": 33,
   "metadata": {
    "hidden": true,
    "run_control": {
     "marked": false
    }
   },
   "outputs": [
    {
     "data": {
      "image/png": "[encoded data removed]",
      "text/plain": [
       "<Figure size 432x288 with 1 Axes>"
      ]
     },
     "metadata": {
      "needs_background": "light"
     },
     "output_type": "display_data"
    }
   ],
   "source": [
    "# visualizing the test output\n",
    "# first pair - pc1 and Chance of Admit\n",
    "plt.scatter(m_p_x_test[:, 0], m_p_y_test, c='red', label='test original')\n",
    "plt.scatter(m_p_x_test[:, 0], m_p_y_pred, c='blue', label='test predicited')\n",
    "plt.legend()\n",
    "plt.xlabel('pc1')\n",
    "plt.ylabel('Chance of Admit')\n",
    "plt.title('pc1 vs Chance of Admit')\n",
    "plt.show()"
   ]
  },
  {
   "cell_type": "code",
   "execution_count": 34,
   "metadata": {
    "hidden": true,
    "run_control": {
     "marked": false
    },
    "scrolled": true
   },
   "outputs": [
    {
     "data": {
      "image/png": "[encoded data removed]",
      "text/plain": [
       "<Figure size 432x288 with 1 Axes>"
      ]
     },
     "metadata": {
      "needs_background": "light"
     },
     "output_type": "display_data"
    }
   ],
   "source": [
    "# visualizing the test output\n",
    "# Second pair - pc2 and Chance of Admit\n",
    "plt.scatter(m_p_x_test[:, 1], m_p_y_test, c='red', label='test original')\n",
    "plt.scatter(m_p_x_test[:, 1], m_p_y_pred, c='blue', label='test predicited')\n",
    "plt.legend()\n",
    "plt.xlabel('PC2')\n",
    "plt.ylabel('Chance of Admit')\n",
    "plt.title('PC2 of Admit')\n",
    "plt.show()"
   ]
  },
  {
   "cell_type": "code",
   "execution_count": 35,
   "metadata": {
    "hidden": true,
    "run_control": {
     "marked": false
    }
   },
   "outputs": [
    {
     "data": {
      "image/png": "[encoded data removed]",
      "text/plain": [
       "<Figure size 432x288 with 1 Axes>"
      ]
     },
     "metadata": {
      "needs_background": "light"
     },
     "output_type": "display_data"
    }
   ],
   "source": [
    "# visualizing the test output\n",
    "# first pair - pc3 and Chance of Admit\n",
    "plt.scatter(m_p_x_test[:, 2], m_p_y_test, c='red', label='test original')\n",
    "plt.scatter(m_p_x_test[:, 2], m_p_y_pred, c='blue', label='test predicited')\n",
    "plt.legend()\n",
    "plt.xlabel('pc3')\n",
    "plt.ylabel('Chance of Admit')\n",
    "plt.title('pc3 vs Chance of Admit')\n",
    "plt.show()"
   ]
  },
  {
   "cell_type": "markdown",
   "metadata": {
    "heading_collapsed": true
   },
   "source": [
    "### PCA for Random Forest"
   ]
  },
  {
   "cell_type": "code",
   "execution_count": 36,
   "metadata": {
    "hidden": true,
    "run_control": {
     "marked": false
    },
    "scrolled": false
   },
   "outputs": [
    {
     "name": "stdout",
     "output_type": "stream",
     "text": [
      "          pc1       pc2       pc3\n",
      "0   -3.454599  0.715382 -0.487942\n",
      "1   -1.446694 -0.673291 -0.170767\n",
      "2    0.843259 -0.282614 -0.031818\n",
      "3   -0.087246  1.083174  0.552358\n",
      "4    1.792237  0.532216 -0.570909\n",
      "..        ...       ...       ...\n",
      "495 -2.277863 -0.274925  0.769505\n",
      "496 -4.299979  0.002730 -0.146817\n",
      "497 -3.819647 -0.008982 -0.211314\n",
      "498 -0.607661 -1.933850 -0.230173\n",
      "499 -2.298916 -0.257542 -0.165467\n",
      "\n",
      "[500 rows x 3 columns]\n"
     ]
    }
   ],
   "source": [
    "from sklearn.decomposition import PCA\n",
    "r_p_column = ['pc1', 'pc2', 'pc3']\n",
    "# applying the pca\n",
    "r_p_pca = PCA(n_components=len(r_p_column))\n",
    "\n",
    "# getting data into principle components\n",
    "r_p_principlecomp = r_p_pca.fit_transform(\n",
    "    df[['GRE Score', 'TOEFL Score', 'University Rating', 'SOP', 'LOR ', 'CGPA']])\n",
    "\n",
    "r_p_principlecompdf = pd.DataFrame(data=r_p_principlecomp, columns=r_p_column)\n",
    "print(r_p_principlecompdf)"
   ]
  },
  {
   "cell_type": "code",
   "execution_count": 37,
   "metadata": {
    "hidden": true,
    "run_control": {
     "marked": false
    },
    "scrolled": true
   },
   "outputs": [
    {
     "name": "stdout",
     "output_type": "stream",
     "text": [
      "        pc1       pc2       pc3  Chance of Admit \n",
      "0 -3.454599  0.715382 -0.487942              0.92\n",
      "1 -1.446694 -0.673291 -0.170767              0.76\n",
      "2  0.843259 -0.282614 -0.031818              0.72\n",
      "3 -0.087246  1.083174  0.552358              0.80\n",
      "4  1.792237  0.532216 -0.570909              0.65\n"
     ]
    }
   ],
   "source": [
    "# final data with principle component data\n",
    "r_p_finaldf = pd.concat(\n",
    "    [r_p_principlecompdf, df[['Chance of Admit ']]], axis=1)\n",
    "\n",
    "print(r_p_finaldf.head())"
   ]
  },
  {
   "cell_type": "code",
   "execution_count": 38,
   "metadata": {
    "hidden": true,
    "run_control": {
     "marked": false
    }
   },
   "outputs": [
    {
     "data": {
      "text/plain": [
       "array([0.73129063, 0.10519804, 0.06363789])"
      ]
     },
     "execution_count": 38,
     "metadata": {},
     "output_type": "execute_result"
    }
   ],
   "source": [
    "# principle component with p<0.05 has been removed\n",
    "r_p_pca.explained_variance_ratio_"
   ]
  },
  {
   "cell_type": "markdown",
   "metadata": {
    "heading_collapsed": true,
    "hide_input": false
   },
   "source": [
    "### 4. Random Forest using PCA"
   ]
  },
  {
   "cell_type": "code",
   "execution_count": 39,
   "metadata": {
    "hidden": true,
    "run_control": {
     "marked": false
    },
    "scrolled": true
   },
   "outputs": [],
   "source": [
    "# spliting the data into trining and testing data\n",
    "from sklearn.model_selection import train_test_split\n",
    "\n",
    "r_p_x_train, r_p_x_test, r_p_y_train, r_p_y_test = train_test_split(\n",
    "    r_p_finaldf.iloc[:, :-1].values, r_p_finaldf.iloc[:, -1].values, train_size=0.8, random_state=0)"
   ]
  },
  {
   "cell_type": "code",
   "execution_count": 40,
   "metadata": {
    "hidden": true,
    "run_control": {
     "marked": false
    },
    "scrolled": true
   },
   "outputs": [],
   "source": [
    "# traning the model and predicting the output of testing dataset\n",
    "r_p_reg = RandomForestRegressor(n_estimators=200, random_state=199)\n",
    "\n",
    "r_p_reg.fit(r_p_x_train, r_p_y_train)\n",
    "\n",
    "# predicting the output\n",
    "r_p_y_pred = r_p_reg.predict(r_p_x_test)"
   ]
  },
  {
   "cell_type": "code",
   "execution_count": 41,
   "metadata": {
    "hidden": true,
    "run_control": {
     "marked": false
    },
    "scrolled": true
   },
   "outputs": [
    {
     "name": "stderr",
     "output_type": "stream",
     "text": [
      "No handles with labels found to put in legend.\n"
     ]
    },
    {
     "data": {
      "image/png": "[encoded data removed]",
      "text/plain": [
       "<Figure size 432x288 with 1 Axes>"
      ]
     },
     "metadata": {
      "needs_background": "light"
     },
     "output_type": "display_data"
    }
   ],
   "source": [
    "# graphical analysis\n",
    "r_p_features = pd.Series(r_p_reg.feature_importances_, index=r_p_column)\n",
    "sns.barplot(x=r_p_features, y=r_p_column)\n",
    "plt.legend()\n",
    "plt.xlabel('predicted output')\n",
    "plt.ylabel('PCA features')\n",
    "plt.show()"
   ]
  },
  {
   "cell_type": "code",
   "execution_count": 42,
   "metadata": {
    "hidden": true,
    "run_control": {
     "marked": false
    },
    "scrolled": true
   },
   "outputs": [
    {
     "name": "stdout",
     "output_type": "stream",
     "text": [
      "mean absolute error : 0.05099800000000003\n",
      "mean square error : 0.005034446150000006\n",
      "root mean square error : 0.07095383111573332\n",
      "r2_score : 0.7117367182467538\n"
     ]
    }
   ],
   "source": [
    "# finding the errors of the model\n",
    "r_p_mae = mean_absolute_error(r_p_y_test, r_p_y_pred)\n",
    "r_p_mse = mean_squared_error(r_p_y_test, r_p_y_pred)\n",
    "r_p_rmse = np.sqrt(r_p_mse)\n",
    "r_p_r2_score = r2_score(r_p_y_test, r_p_y_pred)\n",
    "lst_mae.append(r_p_mae)\n",
    "lst_mse.append(r_p_mse)\n",
    "lst_rmse.append(r_p_rmse)\n",
    "lst_r2_Score.append(r_p_r2_score)\n",
    "print('mean absolute error :', r_p_mae)\n",
    "print('mean square error :', r_p_mse)\n",
    "print('root mean square error :', r_p_rmse)\n",
    "print('r2_score :', r_p_r2_score)"
   ]
  },
  {
   "cell_type": "code",
   "execution_count": 43,
   "metadata": {
    "hidden": true,
    "run_control": {
     "marked": false
    },
    "scrolled": false
   },
   "outputs": [
    {
     "data": {
      "image/png": "[encoded data removed]",
      "text/plain": [
       "<Figure size 432x288 with 1 Axes>"
      ]
     },
     "metadata": {
      "needs_background": "light"
     },
     "output_type": "display_data"
    }
   ],
   "source": [
    "plt.scatter(r_p_x_test[:, 0], r_p_y_pred, label='y_predicted')\n",
    "plt.scatter(r_p_x_test[:, 0], r_p_y_test, label='y_test')\n",
    "plt.legend()\n",
    "plt.xlabel('Original')\n",
    "plt.ylabel('predicted')\n",
    "plt.show()"
   ]
  },
  {
   "cell_type": "code",
   "execution_count": 44,
   "metadata": {
    "hidden": true,
    "run_control": {
     "marked": false
    },
    "scrolled": true
   },
   "outputs": [
    {
     "data": {
      "image/png": "[encoded data removed]",
      "text/plain": [
       "<Figure size 432x288 with 1 Axes>"
      ]
     },
     "metadata": {
      "needs_background": "light"
     },
     "output_type": "display_data"
    }
   ],
   "source": [
    "plt.title('pc2 vs outputs')\n",
    "plt.scatter(r_p_x_test[:, 1], r_p_y_pred, label='y_predicted')\n",
    "plt.scatter(r_p_x_test[:, 1], r_p_y_test, label='y_test')\n",
    "plt.legend()\n",
    "plt.xlabel('Original')\n",
    "plt.ylabel('predicted')\n",
    "plt.show()"
   ]
  },
  {
   "cell_type": "code",
   "execution_count": 45,
   "metadata": {
    "hidden": true,
    "run_control": {
     "marked": false
    }
   },
   "outputs": [
    {
     "data": {
      "image/png": "[encoded data removed]",
      "text/plain": [
       "<Figure size 432x288 with 1 Axes>"
      ]
     },
     "metadata": {
      "needs_background": "light"
     },
     "output_type": "display_data"
    }
   ],
   "source": [
    "plt.title('pc3 vs outputs')\n",
    "plt.scatter(r_p_x_test[:, 2], r_p_y_pred, label='y_predicted')\n",
    "plt.scatter(r_p_x_test[:, 2], r_p_y_test, label='y_test')\n",
    "plt.legend()\n",
    "plt.xlabel('Original')\n",
    "plt.ylabel('predicted')\n",
    "plt.show()"
   ]
  },
  {
   "cell_type": "markdown",
   "metadata": {
    "heading_collapsed": true
   },
   "source": [
    "### Conclusion"
   ]
  },
  {
   "cell_type": "code",
   "execution_count": 47,
   "metadata": {
    "hidden": true
   },
   "outputs": [
    {
     "data": {
      "image/png": "[encoded data removed]",
      "text/plain": [
       "<Figure size 432x288 with 4 Axes>"
      ]
     },
     "metadata": {
      "needs_background": "light"
     },
     "output_type": "display_data"
    }
   ],
   "source": [
    "# graphical analysis\n",
    "lst_indices = ['MAE', 'MSE', 'RMSE', 'R2_Score']\n",
    "r_p_features_mae = pd.Series(lst_mae, index=lst_indices)\n",
    "r_p_features_mse = pd.Series(lst_mse, index=lst_indices)\n",
    "r_p_features_rmse = pd.Series(lst_rmse, index=lst_indices)\n",
    "r_p_features_r2_score = pd.Series(lst_r2_Score, index=lst_indices)\n",
    "\n",
    "\n",
    "plt.subplot(3, 3, 1)\n",
    "sns.barplot(x=r_p_features_mae, y=lst_indices)\n",
    "plt.xlabel('MAE')\n",
    "\n",
    "plt.subplot(3, 3, 3)\n",
    "sns.barplot(x=r_p_features_mse, y=lst_indices)\n",
    "plt.xlabel('MSE')\n",
    "\n",
    "plt.subplot(3, 3, 7)\n",
    "sns.barplot(x=r_p_features_rmse, y=lst_indices)\n",
    "plt.xlabel('RMSE')\n",
    "\n",
    "plt.subplot(3, 3, 9)\n",
    "sns.barplot(x=r_p_features_r2_score, y=lst_indices)\n",
    "plt.xlabel('R2_Score')\n",
    "\n",
    "plt.show()"
   ]
  }
 ],
 "metadata": {
  "hide_input": false,
  "kernelspec": {
   "display_name": "Python 3",
   "language": "python",
   "name": "python3"
  },
  "language_info": {
   "codemirror_mode": {
    "name": "ipython",
    "version": 3
   },
   "file_extension": ".py",
   "mimetype": "text/x-python",
   "name": "python",
   "nbconvert_exporter": "python",
   "pygments_lexer": "ipython3",
   "version": "3.8.3"
  },
  "varInspector": {
   "cols": {
    "lenName": 16,
    "lenType": 16,
    "lenVar": 40
   },
   "kernels_config": {
    "python": {
     "delete_cmd_postfix": "",
     "delete_cmd_prefix": "del ",
     "library": "var_list.py",
     "varRefreshCmd": "print(var_dic_list())"
    },
    "r": {
     "delete_cmd_postfix": ") ",
     "delete_cmd_prefix": "rm(",
     "library": "var_list.r",
     "varRefreshCmd": "cat(var_dic_list()) "
    }
   },
   "position": {
    "height": "550.66px",
    "left": "274.988px",
    "right": "20px",
    "top": "29.9884px",
    "width": "654.977px"
   },
   "types_to_exclude": [
    "module",
    "function",
    "builtin_function_or_method",
    "instance",
    "_Feature"
   ],
   "window_display": false
  }
 },
 "nbformat": 4,
 "nbformat_minor": 4
}
